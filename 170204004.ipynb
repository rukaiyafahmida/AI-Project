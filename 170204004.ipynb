{
  "nbformat": 4,
  "nbformat_minor": 0,
  "metadata": {
    "kernelspec": {
      "language": "python",
      "display_name": "Python 3",
      "name": "python3"
    },
    "language_info": {
      "pygments_lexer": "ipython3",
      "nbconvert_exporter": "python",
      "version": "3.6.4",
      "file_extension": ".py",
      "codemirror_mode": {
        "name": "ipython",
        "version": 3
      },
      "name": "python",
      "mimetype": "text/x-python"
    },
    "colab": {
      "name": "170204004.ipynb",
      "provenance": [],
      "collapsed_sections": [],
      "include_colab_link": true
    }
  },
  "cells": [
    {
      "cell_type": "markdown",
      "metadata": {
        "id": "view-in-github",
        "colab_type": "text"
      },
      "source": [
        "<a href=\"https://colab.research.google.com/github/rukaiyafahmida/AI-Project/blob/main/170204004.ipynb\" target=\"_parent\"><img src=\"https://colab.research.google.com/assets/colab-badge.svg\" alt=\"Open In Colab\"/></a>"
      ]
    },
    {
      "cell_type": "markdown",
      "metadata": {
        "id": "HPIJFX6EvVGM"
      },
      "source": [
        "# Load Libraries"
      ]
    },
    {
      "cell_type": "code",
      "metadata": {
        "_uuid": "d629ff2d2480ee46fbb7e2d37f6b5fab8052498a",
        "_cell_guid": "79c7e3d0-c299-4dcb-8224-4455121ee9b0",
        "trusted": true,
        "id": "O8h3DDhCvVGP"
      },
      "source": [
        "#load libraries\n",
        "import numpy as np \n",
        "import pandas as pd \n",
        "import matplotlib.pyplot as plt\n",
        "import seaborn as sns\n",
        "from scipy.stats import norm\n",
        "from sklearn.preprocessing import StandardScaler\n",
        "from scipy import stats\n",
        "from sklearn.model_selection import train_test_split\n",
        "from sklearn.preprocessing import MinMaxScaler\n",
        "%matplotlib inline\n",
        "\n",
        "import os\n",
        "#print(os.listdir(\"https://raw.githubusercontent.com/rukaiyafahmida/AI-Project/main/pulsar_data_train.csv\"))\n",
        "\n",
        "from sklearn import linear_model\n",
        "from sklearn.linear_model import LogisticRegression\n",
        "from sklearn.tree import DecisionTreeClassifier\n",
        "from sklearn.neighbors import KNeighborsClassifier\n",
        "from sklearn.naive_bayes import GaussianNB"
      ],
      "execution_count": 172,
      "outputs": []
    },
    {
      "cell_type": "markdown",
      "metadata": {
        "id": "_xLw3w2ZvVGQ"
      },
      "source": [
        "# Load Data"
      ]
    },
    {
      "cell_type": "code",
      "metadata": {
        "trusted": true,
        "id": "tCV1bb3UvVGQ"
      },
      "source": [
        "df = pd.read_csv(\"https://raw.githubusercontent.com/rukaiyafahmida/AI-Project/main/dataset.csv\")"
      ],
      "execution_count": 173,
      "outputs": []
    },
    {
      "cell_type": "code",
      "metadata": {
        "trusted": true,
        "colab": {
          "base_uri": "https://localhost:8080/",
          "height": 238
        },
        "id": "ShUU5xAKvVGQ",
        "outputId": "1e849c8d-a58e-48ac-bc00-e7e27001409b"
      },
      "source": [
        "df.head()"
      ],
      "execution_count": 174,
      "outputs": [
        {
          "output_type": "execute_result",
          "data": {
            "text/html": [
              "<div>\n",
              "<style scoped>\n",
              "    .dataframe tbody tr th:only-of-type {\n",
              "        vertical-align: middle;\n",
              "    }\n",
              "\n",
              "    .dataframe tbody tr th {\n",
              "        vertical-align: top;\n",
              "    }\n",
              "\n",
              "    .dataframe thead th {\n",
              "        text-align: right;\n",
              "    }\n",
              "</style>\n",
              "<table border=\"1\" class=\"dataframe\">\n",
              "  <thead>\n",
              "    <tr style=\"text-align: right;\">\n",
              "      <th></th>\n",
              "      <th>Mean of the integrated profile</th>\n",
              "      <th>Standard deviation of the integrated profile</th>\n",
              "      <th>Excess kurtosis of the integrated profile</th>\n",
              "      <th>Skewness of the integrated profile</th>\n",
              "      <th>Mean of the DM-SNR curve</th>\n",
              "      <th>Standard deviation of the DM-SNR curve</th>\n",
              "      <th>Excess kurtosis of the DM-SNR curve</th>\n",
              "      <th>Skewness of the DM-SNR curve</th>\n",
              "      <th>Class</th>\n",
              "    </tr>\n",
              "  </thead>\n",
              "  <tbody>\n",
              "    <tr>\n",
              "      <th>0</th>\n",
              "      <td>90.132812</td>\n",
              "      <td>38.854571</td>\n",
              "      <td>0.586739</td>\n",
              "      <td>1.675733</td>\n",
              "      <td>3.775920</td>\n",
              "      <td>21.386668</td>\n",
              "      <td>7.189355</td>\n",
              "      <td>59.683896</td>\n",
              "      <td>0</td>\n",
              "    </tr>\n",
              "    <tr>\n",
              "      <th>1</th>\n",
              "      <td>80.281250</td>\n",
              "      <td>36.897861</td>\n",
              "      <td>0.948062</td>\n",
              "      <td>2.766861</td>\n",
              "      <td>0.727425</td>\n",
              "      <td>11.208541</td>\n",
              "      <td>18.498446</td>\n",
              "      <td>371.193342</td>\n",
              "      <td>0</td>\n",
              "    </tr>\n",
              "    <tr>\n",
              "      <th>2</th>\n",
              "      <td>94.664062</td>\n",
              "      <td>38.657405</td>\n",
              "      <td>0.590924</td>\n",
              "      <td>1.655763</td>\n",
              "      <td>0.979933</td>\n",
              "      <td>11.807738</td>\n",
              "      <td>15.129617</td>\n",
              "      <td>260.169550</td>\n",
              "      <td>0</td>\n",
              "    </tr>\n",
              "    <tr>\n",
              "      <th>3</th>\n",
              "      <td>91.773438</td>\n",
              "      <td>42.469698</td>\n",
              "      <td>1.547538</td>\n",
              "      <td>3.486250</td>\n",
              "      <td>150.544314</td>\n",
              "      <td>92.773633</td>\n",
              "      <td>-0.530581</td>\n",
              "      <td>-1.270990</td>\n",
              "      <td>1</td>\n",
              "    </tr>\n",
              "    <tr>\n",
              "      <th>4</th>\n",
              "      <td>111.898438</td>\n",
              "      <td>48.468714</td>\n",
              "      <td>0.035704</td>\n",
              "      <td>-0.217656</td>\n",
              "      <td>1.596154</td>\n",
              "      <td>11.295289</td>\n",
              "      <td>13.270718</td>\n",
              "      <td>241.219877</td>\n",
              "      <td>0</td>\n",
              "    </tr>\n",
              "  </tbody>\n",
              "</table>\n",
              "</div>"
            ],
            "text/plain": [
              "   Mean of the integrated profile  ...  Class\n",
              "0                       90.132812  ...      0\n",
              "1                       80.281250  ...      0\n",
              "2                       94.664062  ...      0\n",
              "3                       91.773438  ...      1\n",
              "4                      111.898438  ...      0\n",
              "\n",
              "[5 rows x 9 columns]"
            ]
          },
          "metadata": {},
          "execution_count": 174
        }
      ]
    },
    {
      "cell_type": "markdown",
      "metadata": {
        "id": "sKm_lJt1vVGR"
      },
      "source": [
        "# Data Cleaning And Chceking"
      ]
    },
    {
      "cell_type": "code",
      "metadata": {
        "trusted": true,
        "id": "kZJUAsqMvVGS"
      },
      "source": [
        "#let's check for missing/ unique values\n",
        "def dfaux (df):\n",
        "    cant = df.isnull().sum()\n",
        "    df_aux = pd.DataFrame(index = df.columns, data =\n",
        "                         {'type': df.dtypes,\n",
        "                          'unique_values': df.nunique(),\n",
        "                          'have_null?': df.isnull().any(),\n",
        "                          'how many?' : cant,\n",
        "                          'per' : cant/df.shape[0]*100 })\n",
        "    return df_aux"
      ],
      "execution_count": 175,
      "outputs": []
    },
    {
      "cell_type": "code",
      "metadata": {
        "trusted": true,
        "colab": {
          "base_uri": "https://localhost:8080/",
          "height": 328
        },
        "id": "sx06m9aWvVGS",
        "outputId": "5be5d244-4c59-4ac8-d40c-f6cffdb3ce9f"
      },
      "source": [
        "dfaux(df)"
      ],
      "execution_count": 176,
      "outputs": [
        {
          "output_type": "execute_result",
          "data": {
            "text/html": [
              "<div>\n",
              "<style scoped>\n",
              "    .dataframe tbody tr th:only-of-type {\n",
              "        vertical-align: middle;\n",
              "    }\n",
              "\n",
              "    .dataframe tbody tr th {\n",
              "        vertical-align: top;\n",
              "    }\n",
              "\n",
              "    .dataframe thead th {\n",
              "        text-align: right;\n",
              "    }\n",
              "</style>\n",
              "<table border=\"1\" class=\"dataframe\">\n",
              "  <thead>\n",
              "    <tr style=\"text-align: right;\">\n",
              "      <th></th>\n",
              "      <th>type</th>\n",
              "      <th>unique_values</th>\n",
              "      <th>have_null?</th>\n",
              "      <th>how many?</th>\n",
              "      <th>per</th>\n",
              "    </tr>\n",
              "  </thead>\n",
              "  <tbody>\n",
              "    <tr>\n",
              "      <th>Mean of the integrated profile</th>\n",
              "      <td>float64</td>\n",
              "      <td>597</td>\n",
              "      <td>False</td>\n",
              "      <td>0</td>\n",
              "      <td>0.0</td>\n",
              "    </tr>\n",
              "    <tr>\n",
              "      <th>Standard deviation of the integrated profile</th>\n",
              "      <td>float64</td>\n",
              "      <td>614</td>\n",
              "      <td>False</td>\n",
              "      <td>0</td>\n",
              "      <td>0.0</td>\n",
              "    </tr>\n",
              "    <tr>\n",
              "      <th>Excess kurtosis of the integrated profile</th>\n",
              "      <td>float64</td>\n",
              "      <td>614</td>\n",
              "      <td>False</td>\n",
              "      <td>0</td>\n",
              "      <td>0.0</td>\n",
              "    </tr>\n",
              "    <tr>\n",
              "      <th>Skewness of the integrated profile</th>\n",
              "      <td>float64</td>\n",
              "      <td>614</td>\n",
              "      <td>False</td>\n",
              "      <td>0</td>\n",
              "      <td>0.0</td>\n",
              "    </tr>\n",
              "    <tr>\n",
              "      <th>Mean of the DM-SNR curve</th>\n",
              "      <td>float64</td>\n",
              "      <td>595</td>\n",
              "      <td>False</td>\n",
              "      <td>0</td>\n",
              "      <td>0.0</td>\n",
              "    </tr>\n",
              "    <tr>\n",
              "      <th>Standard deviation of the DM-SNR curve</th>\n",
              "      <td>float64</td>\n",
              "      <td>614</td>\n",
              "      <td>False</td>\n",
              "      <td>0</td>\n",
              "      <td>0.0</td>\n",
              "    </tr>\n",
              "    <tr>\n",
              "      <th>Excess kurtosis of the DM-SNR curve</th>\n",
              "      <td>float64</td>\n",
              "      <td>614</td>\n",
              "      <td>False</td>\n",
              "      <td>0</td>\n",
              "      <td>0.0</td>\n",
              "    </tr>\n",
              "    <tr>\n",
              "      <th>Skewness of the DM-SNR curve</th>\n",
              "      <td>float64</td>\n",
              "      <td>614</td>\n",
              "      <td>False</td>\n",
              "      <td>0</td>\n",
              "      <td>0.0</td>\n",
              "    </tr>\n",
              "    <tr>\n",
              "      <th>Class</th>\n",
              "      <td>int64</td>\n",
              "      <td>2</td>\n",
              "      <td>False</td>\n",
              "      <td>0</td>\n",
              "      <td>0.0</td>\n",
              "    </tr>\n",
              "  </tbody>\n",
              "</table>\n",
              "</div>"
            ],
            "text/plain": [
              "                                                 type  ...  per\n",
              "Mean of the integrated profile                float64  ...  0.0\n",
              "Standard deviation of the integrated profile  float64  ...  0.0\n",
              "Excess kurtosis of the integrated profile     float64  ...  0.0\n",
              "Skewness of the integrated profile            float64  ...  0.0\n",
              "Mean of the DM-SNR curve                      float64  ...  0.0\n",
              "Standard deviation of the DM-SNR curve        float64  ...  0.0\n",
              "Excess kurtosis of the DM-SNR curve           float64  ...  0.0\n",
              "Skewness of the DM-SNR curve                  float64  ...  0.0\n",
              "Class                                           int64  ...  0.0\n",
              "\n",
              "[9 rows x 5 columns]"
            ]
          },
          "metadata": {},
          "execution_count": 176
        }
      ]
    },
    {
      "cell_type": "code",
      "metadata": {
        "trusted": true,
        "colab": {
          "base_uri": "https://localhost:8080/"
        },
        "id": "nWtwP17uvVGT",
        "outputId": "b12f8bb7-43b7-483e-c9fa-0417289b3ce9"
      },
      "source": [
        "df.columns"
      ],
      "execution_count": 177,
      "outputs": [
        {
          "output_type": "execute_result",
          "data": {
            "text/plain": [
              "Index(['Mean of the integrated profile',\n",
              "       'Standard deviation of the integrated profile',\n",
              "       'Excess kurtosis of the integrated profile',\n",
              "       'Skewness of the integrated profile', 'Mean of the DM-SNR curve',\n",
              "       'Standard deviation of the DM-SNR curve',\n",
              "       'Excess kurtosis of the DM-SNR curve', 'Skewness of the DM-SNR curve',\n",
              "       'Class'],\n",
              "      dtype='object')"
            ]
          },
          "metadata": {},
          "execution_count": 177
        }
      ]
    },
    {
      "cell_type": "markdown",
      "metadata": {
        "id": "56EQjx87vVGV"
      },
      "source": [
        "# Analysing Dataset"
      ]
    },
    {
      "cell_type": "code",
      "metadata": {
        "trusted": true,
        "id": "rKGMATNovVGV"
      },
      "source": [
        "df.shape"
      ],
      "execution_count": null,
      "outputs": []
    },
    {
      "cell_type": "markdown",
      "metadata": {
        "id": "5Asc2Ev_vVGV"
      },
      "source": [
        "614 -> rows\n",
        "\n",
        "9 -> columns(features)"
      ]
    },
    {
      "cell_type": "code",
      "metadata": {
        "trusted": true,
        "id": "9lbET4VVvVGV"
      },
      "source": [
        "df.info()"
      ],
      "execution_count": null,
      "outputs": []
    },
    {
      "cell_type": "markdown",
      "metadata": {
        "id": "-4wu9Kg3vVGV"
      },
      "source": [
        "All the features are of float type, except the target class"
      ]
    },
    {
      "cell_type": "code",
      "metadata": {
        "trusted": true,
        "id": "R3bD0LzgvVGW"
      },
      "source": [
        "df.describe()"
      ],
      "execution_count": null,
      "outputs": []
    },
    {
      "cell_type": "markdown",
      "metadata": {
        "id": "KlN36MhPvVGW"
      },
      "source": [
        "The mean of the target variable is about 15.0%, hence we can say that only 15.0% stars are pulsar stars "
      ]
    },
    {
      "cell_type": "code",
      "metadata": {
        "trusted": true,
        "id": "P5CKIi1HvVGX"
      },
      "source": [
        "#feature scaling\n",
        "features = df.drop(\"Class\", axis=1)\n",
        "scaler = MinMaxScaler(feature_range=(0,1))\n",
        "fscaled = scaler.fit_transform(features)"
      ],
      "execution_count": 185,
      "outputs": []
    },
    {
      "cell_type": "markdown",
      "metadata": {
        "id": "QNKESujcvVGX"
      },
      "source": [
        "# Modeling"
      ]
    },
    {
      "cell_type": "code",
      "metadata": {
        "trusted": true,
        "id": "kHHIskpLvVGX"
      },
      "source": [
        "#separating input and target variable\n",
        "X = df.drop(\"Class\", axis=1)\n",
        "Y = df[\"Class\"]"
      ],
      "execution_count": 186,
      "outputs": []
    },
    {
      "cell_type": "code",
      "metadata": {
        "trusted": true,
        "id": "7uAB47-PvVGY"
      },
      "source": [
        "x_train, x_test, y_train, y_test = train_test_split(X, Y, test_size=0.25, random_state = 4 )"
      ],
      "execution_count": 187,
      "outputs": []
    },
    {
      "cell_type": "markdown",
      "metadata": {
        "id": "4YF5yrdVr81d"
      },
      "source": [
        "# Logistic Regression"
      ]
    },
    {
      "cell_type": "code",
      "metadata": {
        "trusted": true,
        "colab": {
          "base_uri": "https://localhost:8080/"
        },
        "id": "iFHCY34GvVGY",
        "outputId": "86f2be25-5351-4871-9372-0119cf0a1f7b"
      },
      "source": [
        "#1. Logistic Regression\n",
        "logreg = LogisticRegression()\n",
        "logreg.fit(x_train, y_train)\n",
        "y_pred1 = logreg.predict(x_test)\n"
      ],
      "execution_count": 217,
      "outputs": [
        {
          "output_type": "stream",
          "name": "stderr",
          "text": [
            "/usr/local/lib/python3.7/dist-packages/sklearn/linear_model/_logistic.py:940: ConvergenceWarning: lbfgs failed to converge (status=1):\n",
            "STOP: TOTAL NO. of ITERATIONS REACHED LIMIT.\n",
            "\n",
            "Increase the number of iterations (max_iter) or scale the data as shown in:\n",
            "    https://scikit-learn.org/stable/modules/preprocessing.html\n",
            "Please also refer to the documentation for alternative solver options:\n",
            "    https://scikit-learn.org/stable/modules/linear_model.html#logistic-regression\n",
            "  extra_warning_msg=_LOGISTIC_SOLVER_CONVERGENCE_MSG)\n"
          ]
        }
      ]
    },
    {
      "cell_type": "markdown",
      "metadata": {
        "id": "KGUdqIgWs2JE"
      },
      "source": [
        "# Confusion Matrix Of Logistic Regression"
      ]
    },
    {
      "cell_type": "code",
      "metadata": {
        "colab": {
          "base_uri": "https://localhost:8080/"
        },
        "id": "XHhXltuJs_C7",
        "outputId": "0b152f87-b97a-4838-fdfd-ec2fc3b2f860"
      },
      "source": [
        "from sklearn.metrics import confusion_matrix, accuracy_score\n",
        "\n",
        "y_pred1 = logreg.predict(x_test)\n",
        "cm = confusion_matrix(y_test, y_pred1)\n",
        "print(cm)"
      ],
      "execution_count": 218,
      "outputs": [
        {
          "output_type": "stream",
          "name": "stdout",
          "text": [
            "[[130   1]\n",
            " [  5  18]]\n"
          ]
        }
      ]
    },
    {
      "cell_type": "markdown",
      "metadata": {
        "id": "NZQespTFHVqU"
      },
      "source": [
        "# Accuracy Of Logistic Regression"
      ]
    },
    {
      "cell_type": "code",
      "metadata": {
        "colab": {
          "base_uri": "https://localhost:8080/"
        },
        "id": "YuMzdICdHVqb",
        "outputId": "60ba93b6-36ac-41fb-acb7-33b1df1346d3"
      },
      "source": [
        "\n",
        "acc_lr = round(accuracy_score(y_test , y_pred1) * 100, 3)\n",
        "print('Accuracy: %.3f' % acc_lr)"
      ],
      "execution_count": 226,
      "outputs": [
        {
          "output_type": "stream",
          "name": "stdout",
          "text": [
            "Accuracy: 96.104\n"
          ]
        }
      ]
    },
    {
      "cell_type": "markdown",
      "metadata": {
        "id": "TYAQHsfpw3wf"
      },
      "source": [
        "# F1 Score Of Logistic Regression"
      ]
    },
    {
      "cell_type": "code",
      "metadata": {
        "colab": {
          "base_uri": "https://localhost:8080/"
        },
        "id": "BQ9lJq33xAoY",
        "outputId": "003bde54-5348-45cc-9ac5-0fce56e1f5d0"
      },
      "source": [
        "from sklearn.metrics import f1_score\n",
        "f1_LR = f1_score(y_test, y_pred1, zero_division=1)*100\n",
        "print('F1 score: %.2f' % f1_LR)"
      ],
      "execution_count": 227,
      "outputs": [
        {
          "output_type": "stream",
          "name": "stdout",
          "text": [
            "F1 score: 85.71\n"
          ]
        }
      ]
    },
    {
      "cell_type": "markdown",
      "metadata": {
        "id": "EKUFEXa2zr8u"
      },
      "source": [
        "# Recall Score Of Logistic Regression"
      ]
    },
    {
      "cell_type": "code",
      "metadata": {
        "colab": {
          "base_uri": "https://localhost:8080/"
        },
        "id": "Yp7T_tMFEwha",
        "outputId": "f027f7ff-a45a-4f3f-d7fa-e5deebb1db36"
      },
      "source": [
        "from sklearn.metrics import recall_score\n",
        "recall = recall_score(y_test, y_pred1)*100\n",
        "print(\"Recall: %.2f\" % recall)"
      ],
      "execution_count": 228,
      "outputs": [
        {
          "output_type": "stream",
          "name": "stdout",
          "text": [
            "Recall: 78.26\n"
          ]
        }
      ]
    },
    {
      "cell_type": "markdown",
      "metadata": {
        "id": "1YwVBc_mFokv"
      },
      "source": [
        "# Precision score  Of Logistic Regression\n",
        "\n",
        "\n"
      ]
    },
    {
      "cell_type": "code",
      "metadata": {
        "colab": {
          "base_uri": "https://localhost:8080/"
        },
        "id": "a7tZCPeBFxfv",
        "outputId": "1f1f937a-eb1d-4a8c-f44f-ecbea4f7f38b"
      },
      "source": [
        "from sklearn.metrics import precision_score\n",
        "precision =  precision_score(y_test, y_pred1)*100\n",
        "print('precision: %.2f' % precision)"
      ],
      "execution_count": 229,
      "outputs": [
        {
          "output_type": "stream",
          "name": "stdout",
          "text": [
            "precision: 94.74\n"
          ]
        }
      ]
    },
    {
      "cell_type": "markdown",
      "metadata": {
        "id": "bzyQjzHusdl1"
      },
      "source": [
        "# KNN"
      ]
    },
    {
      "cell_type": "code",
      "metadata": {
        "trusted": true,
        "id": "xL-xO592vVGZ"
      },
      "source": [
        "#2. KNN\n",
        "knn = KNeighborsClassifier(n_neighbors = 3)\n",
        "knn.fit(x_train, y_train)\n",
        "y_pred2 = knn.predict(x_test)"
      ],
      "execution_count": 194,
      "outputs": []
    },
    {
      "cell_type": "markdown",
      "metadata": {
        "id": "nVMHHLZAG_AP"
      },
      "source": [
        "# Confusion Matrix Of KNN"
      ]
    },
    {
      "cell_type": "code",
      "metadata": {
        "colab": {
          "base_uri": "https://localhost:8080/"
        },
        "id": "DNjzIYP8VtrR",
        "outputId": "5b1f98a8-39ef-4f09-91be-169f3d1ec867"
      },
      "source": [
        "from sklearn.metrics import confusion_matrix, accuracy_score\n",
        "\n",
        "cm = confusion_matrix(y_test, y_pred2)\n",
        "print(cm)"
      ],
      "execution_count": 195,
      "outputs": [
        {
          "output_type": "stream",
          "name": "stdout",
          "text": [
            "[[129   2]\n",
            " [  6  17]]\n"
          ]
        }
      ]
    },
    {
      "cell_type": "markdown",
      "metadata": {
        "id": "30_NV4EGujlX"
      },
      "source": [
        "# Accuracy Of KNN"
      ]
    },
    {
      "cell_type": "code",
      "metadata": {
        "colab": {
          "base_uri": "https://localhost:8080/"
        },
        "id": "0cg-rcqAunoi",
        "outputId": "78a20dd0-5168-4803-a137-9fb1572781d0"
      },
      "source": [
        "\n",
        "acc = round(accuracy_score(y_test , y_pred2) * 100, 3)\n",
        "print('Accuracy: %.3f' % acc)"
      ],
      "execution_count": 230,
      "outputs": [
        {
          "output_type": "stream",
          "name": "stdout",
          "text": [
            "Accuracy: 94.805\n"
          ]
        }
      ]
    },
    {
      "cell_type": "markdown",
      "metadata": {
        "id": "ySBypuDvHxkB"
      },
      "source": [
        "# F1 Score Of KNN"
      ]
    },
    {
      "cell_type": "code",
      "metadata": {
        "colab": {
          "base_uri": "https://localhost:8080/"
        },
        "id": "CSeLsD_GHxkJ",
        "outputId": "cfa3d469-76db-478a-c6cd-3d0a8bc15f93"
      },
      "source": [
        "from sklearn.metrics import f1_score\n",
        "f1_LR = f1_score(y_test, y_pred2, zero_division=1)*100\n",
        "print('F1 score: %.2f' % f1_LR)"
      ],
      "execution_count": 231,
      "outputs": [
        {
          "output_type": "stream",
          "name": "stdout",
          "text": [
            "F1 score: 80.95\n"
          ]
        }
      ]
    },
    {
      "cell_type": "markdown",
      "metadata": {
        "id": "0cj3znIvH5W2"
      },
      "source": [
        "# Recall Score Of KNN"
      ]
    },
    {
      "cell_type": "code",
      "metadata": {
        "colab": {
          "base_uri": "https://localhost:8080/"
        },
        "id": "kCX2kCRdH5W3",
        "outputId": "ed13243d-85d9-4ea1-ea6a-a40e28d41e0c"
      },
      "source": [
        "from sklearn.metrics import recall_score\n",
        "recall = recall_score(y_test, y_pred2)*100\n",
        "print(\"Recall: %.2f\" % recall)"
      ],
      "execution_count": 232,
      "outputs": [
        {
          "output_type": "stream",
          "name": "stdout",
          "text": [
            "Recall: 73.91\n"
          ]
        }
      ]
    },
    {
      "cell_type": "markdown",
      "metadata": {
        "id": "94fMQ15WWqS2"
      },
      "source": [
        "# Precision score  Of KNN\n",
        "\n",
        "\n"
      ]
    },
    {
      "cell_type": "code",
      "metadata": {
        "colab": {
          "base_uri": "https://localhost:8080/"
        },
        "id": "ZyDO5D10WqS2",
        "outputId": "2075de69-c4e0-4206-f402-9e3a6ff70fea"
      },
      "source": [
        "from sklearn.metrics import precision_score\n",
        "precision =  precision_score(y_test, y_pred2)*100\n",
        "print('precision: %.2f' % precision)"
      ],
      "execution_count": 233,
      "outputs": [
        {
          "output_type": "stream",
          "name": "stdout",
          "text": [
            "precision: 89.47\n"
          ]
        }
      ]
    },
    {
      "cell_type": "markdown",
      "metadata": {
        "id": "1DeTMSNysiwF"
      },
      "source": [
        "# Gaussian Naive Bayers"
      ]
    },
    {
      "cell_type": "code",
      "metadata": {
        "trusted": true,
        "id": "QvPyQHakvVGZ"
      },
      "source": [
        "#3. GNB\n",
        "gauss = GaussianNB()\n",
        "gauss.fit(x_train, y_train)\n",
        "y_pred3 = gauss.predict(x_test)"
      ],
      "execution_count": 214,
      "outputs": []
    },
    {
      "cell_type": "markdown",
      "metadata": {
        "id": "WCbmFzTVX2CD"
      },
      "source": [
        "# Confusion Matrix Of Gaussian Naive Bayers"
      ]
    },
    {
      "cell_type": "code",
      "metadata": {
        "colab": {
          "base_uri": "https://localhost:8080/"
        },
        "id": "QfMn1LyqX2CE",
        "outputId": "ad900da9-b87c-4031-dafb-b777686d2a50"
      },
      "source": [
        "from sklearn.metrics import confusion_matrix, accuracy_score\n",
        "\n",
        "cm = confusion_matrix(y_test, y_pred3)\n",
        "print(cm)"
      ],
      "execution_count": 215,
      "outputs": [
        {
          "output_type": "stream",
          "name": "stdout",
          "text": [
            "[[129   2]\n",
            " [  3  20]]\n"
          ]
        }
      ]
    },
    {
      "cell_type": "markdown",
      "metadata": {
        "id": "kv6BkbgVX8Sf"
      },
      "source": [
        "# Accuracy Of Gaussian Naive Bayers"
      ]
    },
    {
      "cell_type": "code",
      "metadata": {
        "colab": {
          "base_uri": "https://localhost:8080/"
        },
        "id": "hRG72jm1X8Sf",
        "outputId": "f9e7319a-8b95-411c-929d-2ae2d47bee1b"
      },
      "source": [
        "\n",
        "acc = round(accuracy_score(y_test , y_pred3) * 100, 3)\n",
        "print('Accuracy: %.3f' % acc)"
      ],
      "execution_count": 216,
      "outputs": [
        {
          "output_type": "stream",
          "name": "stdout",
          "text": [
            "Accuracy: 96.753\n"
          ]
        }
      ]
    },
    {
      "cell_type": "markdown",
      "metadata": {
        "id": "fdcnL5kMYLbb"
      },
      "source": [
        "# F1 Score Of Gaussian Naive Bayers"
      ]
    },
    {
      "cell_type": "code",
      "metadata": {
        "colab": {
          "base_uri": "https://localhost:8080/"
        },
        "id": "qc4EDO8oYLbc",
        "outputId": "1204523b-6632-4e51-9097-c51a8b248aab"
      },
      "source": [
        "from sklearn.metrics import f1_score\n",
        "f1_LR = f1_score(y_test, y_pred3, zero_division=1)*100\n",
        "print('F1 score: %.2f' % f1_LR)"
      ],
      "execution_count": 234,
      "outputs": [
        {
          "output_type": "stream",
          "name": "stdout",
          "text": [
            "F1 score: 88.89\n"
          ]
        }
      ]
    },
    {
      "cell_type": "markdown",
      "metadata": {
        "id": "SJOfEITiYIVq"
      },
      "source": [
        "# Recall Score Of Gaussian Naive Bayers"
      ]
    },
    {
      "cell_type": "code",
      "metadata": {
        "colab": {
          "base_uri": "https://localhost:8080/"
        },
        "id": "pl54kjC-YIVq",
        "outputId": "f6368ecb-9c88-444c-d8bf-b6b7f90695eb"
      },
      "source": [
        "from sklearn.metrics import recall_score\n",
        "recall = recall_score(y_test, y_pred3)*100\n",
        "print(\"Recall: %.2f\" % recall)"
      ],
      "execution_count": 236,
      "outputs": [
        {
          "output_type": "stream",
          "name": "stdout",
          "text": [
            "Recall: 86.96\n"
          ]
        }
      ]
    },
    {
      "cell_type": "markdown",
      "metadata": {
        "id": "6CAT1qSwYEqe"
      },
      "source": [
        "# Precision score  Of Gaussian Naive Bayers\n",
        "\n",
        "\n"
      ]
    },
    {
      "cell_type": "code",
      "metadata": {
        "colab": {
          "base_uri": "https://localhost:8080/"
        },
        "id": "CZVH9r7jYEqe",
        "outputId": "2eb7d1cb-4eb3-4125-f320-d6fc8c36d81c"
      },
      "source": [
        "from sklearn.metrics import precision_score\n",
        "precision =  precision_score(y_test, y_pred3)*100\n",
        "print('precision: %.2f' % precision)"
      ],
      "execution_count": 237,
      "outputs": [
        {
          "output_type": "stream",
          "name": "stdout",
          "text": [
            "precision: 90.91\n"
          ]
        }
      ]
    }
  ]
}